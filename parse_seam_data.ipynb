{
 "cells": [
  {
   "cell_type": "code",
   "execution_count": 1,
   "metadata": {},
   "outputs": [],
   "source": [
    "%matplotlib inline\n",
    "import torch\n",
    "import numpy as np\n",
    "import matplotlib.pyplot as plt\n",
    "import scipy.io as io\n",
    "from sklearn import preprocessing\n",
    "import torch.nn as nn\n",
    "import torch.nn.functional as F\n",
    "import torchvision\n",
    "import torchvision.transforms as transforms"
   ]
  },
  {
   "cell_type": "code",
   "execution_count": 2,
   "metadata": {},
   "outputs": [],
   "source": [
    "# Data directory\n",
    "# datadir = '/home/justin/Data/seam/'\n",
    "datadir = '/mnt/c/Users/Justin/Dropbox (Personal)/Shared/Haneet/Data/'\n",
    "d_train_f = datadir + 'training_data.mat'\n",
    "d_test_f = datadir + 'blind_data.mat'"
   ]
  },
  {
   "cell_type": "code",
   "execution_count": 3,
   "metadata": {},
   "outputs": [],
   "source": [
    "# Load the matlab files for training and testing (blind) boreholes\n",
    "d_train = io.loadmat(d_train_f)\n",
    "d_test = io.loadmat(d_test_f)"
   ]
  },
  {
   "cell_type": "code",
   "execution_count": 4,
   "metadata": {},
   "outputs": [],
   "source": [
    "# Parse the matlab data structures to get training/testing images and labels\n",
    "labels_train,images_train = d_train['ctrain'][0],d_train['dtrain'][0]\n",
    "labels_test,images_test = d_test['cblind'][0],d_test['dblind'][0]\n"
   ]
  },
  {
   "cell_type": "code",
   "execution_count": 5,
   "metadata": {},
   "outputs": [
    {
     "name": "stdout",
     "output_type": "stream",
     "text": [
      " ### INFO ###\n",
      "11 Training Data Boreholes\n",
      "5 Testing Data Boreholes\n",
      "4 Classes\n",
      "25 Values per Image (5 x 5)\n",
      "\n",
      "Borehole  1:  707 Depth Slices | Min: -19841.348   Max: 28279.582   Mean:  -10.96   Std: 4471.869\n",
      "Borehole  2:  689 Depth Slices | Min: -18987.617   Max: 27663.824   Mean:  -39.07   Std: 4270.490\n",
      "Borehole  3:  697 Depth Slices | Min: -14817.008   Max: 23764.441   Mean:   62.60   Std: 3502.549\n",
      "Borehole  4:  691 Depth Slices | Min: -17115.027   Max: 19057.191   Mean:   19.58   Std: 3449.588\n",
      "Borehole  5:  660 Depth Slices | Min: -18968.973   Max: 21860.555   Mean:    5.75   Std: 3506.990\n",
      "Borehole  6:  676 Depth Slices | Min: -18961.461   Max: 29092.922   Mean:  -12.60   Std: 4207.515\n",
      "Borehole  7:  702 Depth Slices | Min: -21064.227   Max: 30714.266   Mean:  -25.05   Std: 4467.483\n",
      "Borehole  8:  706 Depth Slices | Min: -19675.383   Max: 22419.102   Mean:   24.54   Std: 3528.093\n",
      "Borehole  9:  583 Depth Slices | Min: -12698.621   Max: 17069.480   Mean:  -47.61   Std: 3405.394\n",
      "Borehole 10:  665 Depth Slices | Min: -22542.320   Max: 23150.016   Mean: -102.55   Std: 4216.372\n",
      "Borehole 11:  669 Depth Slices | Min: -13712.184   Max: 11415.199   Mean:   25.67   Std: 3086.731\n"
     ]
    }
   ],
   "source": [
    "# Print some information\n",
    "print(' ### INFO ###')\n",
    "print('%i Training Data Boreholes' %(len(images_train)))\n",
    "print('%i Testing Data Boreholes' %(len(images_test)))\n",
    "print('%i Classes' %(labels_train[0].shape[0]))\n",
    "print('%i Values per Image (%i x %i)\\n'%(images_train[0].shape[0], np.sqrt(images_train[0].shape[0]), np.sqrt(images_train[0].shape[0])))\n",
    "\n",
    "cnt = 1\n",
    "for x,l in zip(images_train,labels_train):\n",
    "    xv = np.reshape(x,x.size)\n",
    "    print('Borehole %2i:  %i Depth Slices | Min: %-4.3f   Max: %-4.3f   Mean: % 7.2f   Std: %-4.3f' %(cnt, x.shape[1], xv.min(), xv.max(), xv.mean(), xv. std()))\n",
    "    cnt += 1"
   ]
  },
  {
   "cell_type": "markdown",
   "metadata": {},
   "source": [
    "# Define a plotting function\n",
    "def montageArray(x, img_size, ncol=50):\n",
    "    xx = np.reshape(x, (img_size,img_size,-1))\n",
    "    fig = plt.figure()\n",
    "    fig.set_size_inches(30,20)\n",
    "    fig.subplots_adjust(wspace=0.0)\n",
    "    n = xx.shape[2]\n",
    "    for i in range(n):   \n",
    "        a = fig.add_subplot(np.ceil(n/float(ncol)), ncol, i+1)\n",
    "        \n",
    "        plt.imshow(xx[:,:,i])\n",
    "        plt.axis('off')\n",
    "    plt.show()\n",
    "        "
   ]
  },
  {
   "cell_type": "markdown",
   "metadata": {},
   "source": [
    "# View the data\n",
    "montageArray(images_train[0],5)"
   ]
  },
  {
   "cell_type": "code",
   "execution_count": 6,
   "metadata": {},
   "outputs": [],
   "source": [
    "# Change the labels to integers\n",
    "alllabels = []\n",
    "for label in labels_train:\n",
    "    l = [np.where(y)[0][0] for y in label.transpose()]\n",
    "    alllabels.append(torch.tensor(np.asarray(l)))\n",
    "    \n",
    "testlabels = []\n",
    "for label in labels_test:\n",
    "    l = [np.where(y)[0][0] for y in label.transpose()]\n",
    "    testlabels.append(torch.tensor(np.asarray(l)))\n",
    "    \n",
    "# print(alllabels)    "
   ]
  },
  {
   "cell_type": "code",
   "execution_count": 7,
   "metadata": {},
   "outputs": [],
   "source": [
    "# Get weights to rebalance the problem\n",
    "cw = np.zeros(labels_train[0].shape[0],dtype=np.float32)\n",
    "for i in range(len(cw)):\n",
    "    for label in alllabels:\n",
    "        cw[i] += np.sum(label.numpy()==i)\n",
    "\n",
    "w_l = torch.tensor(1/cw)\n",
    "# w_l = torch.tensor((1/cw)/np.sum(1/cw))"
   ]
  },
  {
   "cell_type": "code",
   "execution_count": 8,
   "metadata": {},
   "outputs": [
    {
     "name": "stdout",
     "output_type": "stream",
     "text": [
      "Class 0:    38 examples  |  weight = 0.02632\n",
      "Class 1:   569 examples  |  weight = 0.00176\n",
      "Class 2:  6801 examples  |  weight = 0.00015\n",
      "Class 3:    37 examples  |  weight = 0.02703\n"
     ]
    }
   ],
   "source": [
    "for i,(ci,wi) in enumerate(zip(cw,w_l)):\n",
    "    print('Class %i:  %4i examples  |  weight = %.5f'%(i,ci,wi))\n"
   ]
  },
  {
   "cell_type": "markdown",
   "metadata": {},
   "source": [
    "# View the labels\n",
    "fig = plt.figure()\n",
    "for i,ll in enumerate(labels):\n",
    "    a = fig.add_subplot(1, len(labels), i+1)\n",
    "    plt.plot(100*ll,np.arange(len(ll)),'r.')\n",
    "    plt.axis('image')\n",
    "plt.show()"
   ]
  },
  {
   "cell_type": "code",
   "execution_count": 9,
   "metadata": {},
   "outputs": [
    {
     "name": "stdout",
     "output_type": "stream",
     "text": [
      "-8.227577091130255 3867.0146123165696 30714.265625 -22542.3203125\n",
      "1.0 -1.0 -0.15375376251665604 0.1452220244404986\n"
     ]
    }
   ],
   "source": [
    "# Normalize the data\n",
    "alldata = np.concatenate([x.flatten() for x in images_train])\n",
    "m,s,ma,mi = alldata.mean(),alldata.std(),alldata.max(),alldata.min()\n",
    "print(m,s,ma,mi)\n",
    "\n",
    "newd = 2*(alldata - mi)/(ma-mi)-1\n",
    "print(newd.max(),newd.min(),newd.mean(),newd.std())\n",
    "\n",
    "Ynorm = [2*(y-mi)/(ma-mi)-1 for y in images_train]\n",
    "Ynormtest = [2*(y-mi)/(ma-mi)-1 for y in images_test]"
   ]
  },
  {
   "cell_type": "code",
   "execution_count": 10,
   "metadata": {},
   "outputs": [],
   "source": [
    "# Format the data and labels for PyTorch\n",
    "# Images should be formatted as [1,1,X,Y,Z] for each Borehole\n",
    "Ytrain = []\n",
    "for y in Ynorm:\n",
    "    Ytrain.append(torch.tensor(np.float32(np.reshape(y,(1,1,5,5,-1)))))\n",
    "    \n",
    "Ytest = []\n",
    "for y in Ynormtest:\n",
    "    Ytest.append(torch.tensor(np.float32(np.reshape(y,(1,1,5,5,-1)))))"
   ]
  },
  {
   "cell_type": "code",
   "execution_count": 11,
   "metadata": {},
   "outputs": [],
   "source": [
    "def conv3x3x3(x,K):\n",
    "    \"\"\"3x3 convolution with padding\"\"\"\n",
    "    return F.conv3d(x, K, padding=1)\n",
    "\n",
    "def conv3x3x3T(x,K):\n",
    "    \"\"\"3x3 convolution transpose with padding\"\"\"\n",
    "    #K = torch.transpose(K,0,1)\n",
    "    return F.conv_transpose3d(x, K, padding=1)\n",
    "        \n",
    "        \n",
    "dis = nn.CrossEntropyLoss(weight=w_l)\n",
    "def misfit(X,W,C):    \n",
    "    n = W.shape\n",
    "    X = X.view(-1,n[0])\n",
    "    S = torch.matmul(X,W)\n",
    "    return dis(S,C), S   \n",
    "\n",
    "def getAccuracy(S,labels):\n",
    "    _, predicted = torch.max(S.data, 1)\n",
    "    total = labels.size(0)\n",
    "    correct = (predicted == labels).sum().item()\n",
    "    return correct/total"
   ]
  },
  {
   "cell_type": "code",
   "execution_count": 12,
   "metadata": {},
   "outputs": [],
   "source": [
    "class ResNet(nn.Module):\n",
    "\n",
    "    def __init__(self, h,NG):\n",
    "        super().__init__()\n",
    "\n",
    "        # network geometry\n",
    "        self.NG       = NG\n",
    "        # time step\n",
    "        self.h        = h\n",
    "        # coarsening and TV norm\n",
    "        \n",
    "        \n",
    "    def forward(self,x,Kresnet):\n",
    "    \n",
    "        nt = len(Kresnet)\n",
    "        \n",
    "        # time stepping\n",
    "        for j in range(nt):\n",
    "            \n",
    "            # First case - rsent style step\n",
    "            if NG[0,j] == NG[1,j]: \n",
    "                #print(torch.norm(z))\n",
    "                z  = conv3x3x3(x, Kresnet[j])\n",
    "                z  = F.instance_norm(z)\n",
    "                z  = F.relu(z)        \n",
    "                z  = conv3x3x3T(z,Kresnet[j])\n",
    "                x  = x - self.h*z\n",
    "            # Change number of channels/resolution    \n",
    "            else:\n",
    "                z  = conv3x3x3(x, Kresnet[j])\n",
    "                z  = F.instance_norm(z)\n",
    "                x  = F.relu(z)\n",
    "        \n",
    "        # compress in x-y dimensions \n",
    "        #x = F.avg_pool3d(x, (5,5,1), stride=None, padding=0)\n",
    "             \n",
    "        return x #torch.transpose(p,0,1)\n",
    "        "
   ]
  },
  {
   "cell_type": "code",
   "execution_count": 13,
   "metadata": {},
   "outputs": [
    {
     "name": "stdout",
     "output_type": "stream",
     "text": [
      "cpu\n"
     ]
    }
   ],
   "source": [
    "# Set up the GPU\n",
    "device = torch.device(\"cuda:0\" if torch.cuda.is_available() else \"cpu\")\n",
    "print(device)"
   ]
  },
  {
   "cell_type": "code",
   "execution_count": 14,
   "metadata": {},
   "outputs": [],
   "source": [
    "# initialize net and weights\n",
    "h           = 1e0\n",
    "\n",
    "# Network geometry\n",
    "NG = [1,    16,     16,    16,  \n",
    "      16,    16,     16,    16, \n",
    "      0,    0,     0,    0]\n",
    "\n",
    "NG = np.reshape(NG,(4,-1))\n",
    "\n",
    "\n",
    "net   = ResNet(h,NG)\n",
    "\n",
    "nsteps = NG.shape[1]\n",
    "\n",
    "\n",
    "Kresnet = []\n",
    "for i in range(nsteps):  \n",
    "    Ki  = nn.Parameter(torch.Tensor(np.asscalar(NG[1,i]), np.asscalar(NG[0,i]),3,3,3))\n",
    "    stdv  = 1e-3\n",
    "    Ki.data.uniform_(-stdv, stdv)    \n",
    "    # Move to the GPU\n",
    "    Ki.data = Ki.data.to(device)\n",
    "    \n",
    "    #print(torch.norm(Ki))\n",
    "    Kresnet.append(Ki)\n",
    "    \n",
    "# weights for linear classifier    \n",
    "W     = nn.Parameter(torch.Tensor(np.asscalar(NG[1,-1])*25,4))\n",
    "stdv  = 1e-3\n",
    "W.data.uniform_(-stdv, stdv)\n",
    "    \n",
    "# Move to GPU\n",
    "net.to(device)\n",
    "W.data = W.data.to(device)"
   ]
  },
  {
   "cell_type": "code",
   "execution_count": 15,
   "metadata": {},
   "outputs": [],
   "source": [
    "import torch.optim as optim\n",
    "optimizer = optim.SGD([{'params':Kresnet},{'params': W, 'lr':1e-4}], lr=1e-4, momentum=0.9)\n",
    "\n",
    "# Print every _ iterations\n",
    "p_iter = 1\n",
    "\n",
    "# Run _ epochs\n",
    "n_epoch = 10"
   ]
  },
  {
   "cell_type": "code",
   "execution_count": 16,
   "metadata": {},
   "outputs": [
    {
     "name": "stdout",
     "output_type": "stream",
     "text": [
      "Epoch   Iteration   Loss(run)   Acc(run)   Acc(val)\n",
      "---------------------------------------------------\n",
      "  1          1        1.386      0.165      0.183\n",
      "  1          2        1.386      0.197      0.186\n",
      "  1          3        1.386      0.174      0.192\n",
      "  1          4        1.386      0.185      0.200\n",
      "  1          5        1.386      0.205      0.203\n",
      "  1          6        1.386      0.189      0.201\n",
      "  1          7        1.386      0.204      0.197\n",
      "  1          8        1.386      0.217      0.201\n",
      "  1          9        1.386      0.220      0.207\n",
      "  1         10        1.386      0.230      0.209\n",
      "  1         11        1.386      0.236      0.207\n",
      "Epoch   Iteration   Loss(run)   Acc(run)   Acc(val)\n",
      "---------------------------------------------------\n",
      "  2          1        1.386      0.205      0.204\n",
      "  2          2        1.386      0.215      0.210\n",
      "  2          3        1.386      0.199      0.209\n",
      "  2          4        1.386      0.191      0.200\n",
      "  2          5        1.386      0.198      0.197\n",
      "  2          6        1.385      0.182      0.183\n",
      "  2          7        1.386      0.191      0.174\n",
      "  2          8        1.386      0.149      0.164\n",
      "  2          9        1.386      0.168      0.154\n",
      "  2         10        1.386      0.194      0.145\n",
      "  2         11        1.386      0.170      0.137\n",
      "Epoch   Iteration   Loss(run)   Acc(run)   Acc(val)\n",
      "---------------------------------------------------\n",
      "  3          1        1.386      0.124      0.118\n",
      "  3          2        1.385      0.128      0.109\n",
      "  3          3        1.385      0.118      0.098\n",
      "  3          4        1.384      0.109      0.085\n",
      "  3          5        1.386      0.108      0.080\n",
      "  3          6        1.382      0.126      0.075\n",
      "  3          7        1.386      0.103      0.073\n",
      "  3          8        1.385      0.055      0.073\n",
      "  3          9        1.385      0.069      0.067\n",
      "  3         10        1.384      0.093      0.066\n",
      "  3         11        1.383      0.106      0.067\n",
      "Epoch   Iteration   Loss(run)   Acc(run)   Acc(val)\n",
      "---------------------------------------------------\n",
      "  4          1        1.386      0.064      0.067\n",
      "  4          2        1.381      0.077      0.055\n",
      "  4          3        1.380      0.088      0.054\n",
      "  4          4        1.379      0.082      0.054\n",
      "  4          5        1.384      0.086      0.054\n",
      "  4          6        1.373      0.107      0.054\n",
      "  4          7        1.384      0.071      0.055\n",
      "  4          8        1.381      0.041      0.055\n",
      "  4          9        1.380      0.062      0.054\n",
      "  4         10        1.380      0.083      0.055\n",
      "  4         11        1.375      0.105      0.052\n",
      "Epoch   Iteration   Loss(run)   Acc(run)   Acc(val)\n",
      "---------------------------------------------------\n",
      "  5          1        1.384      0.061      0.051\n",
      "  5          2        1.370      0.075      0.052\n",
      "  5          3        1.367      0.088      0.052\n",
      "  5          4        1.366      0.084      0.054\n",
      "  5          5        1.380      0.086      0.055\n",
      "  5          6        1.353      0.105      0.057\n",
      "  5          7        1.378      0.070      0.054\n",
      "  5          8        1.374      0.041      0.054\n",
      "  5          9        1.380      0.062      0.052\n",
      "  5         10        1.376      0.086      0.052\n",
      "  5         11        1.362      0.099      0.058\n",
      "Epoch   Iteration   Loss(run)   Acc(run)   Acc(val)\n",
      "---------------------------------------------------\n",
      "  6          1        1.377      0.059      0.054\n",
      "  6          2        1.352      0.077      0.055\n",
      "  6          3        1.345      0.095      0.055\n",
      "  6          4        1.344      0.088      0.060\n",
      "  6          5        1.375      0.091      0.063\n",
      "  6          6        1.325      0.111      0.063\n",
      "  6          7        1.366      0.075      0.066\n",
      "  6          8        1.360      0.045      0.063\n",
      "  6          9        1.382      0.065      0.064\n",
      "  6         10        1.385      0.086      0.061\n",
      "  6         11        1.361      0.108      0.061\n",
      "Epoch   Iteration   Loss(run)   Acc(run)   Acc(val)\n",
      "---------------------------------------------------\n",
      "  7          1        1.365      0.068      0.063\n",
      "  7          2        1.330      0.078      0.070\n",
      "  7          3        1.320      0.096      0.086\n",
      "  7          4        1.320      0.097      0.089\n",
      "  7          5        1.357      0.118      0.094\n",
      "  7          6        1.300      0.115      0.089\n",
      "  7          7        1.354      0.077      0.091\n",
      "  7          8        1.352      0.058      0.098\n",
      "  7          9        1.369      0.091      0.100\n",
      "  7         10        1.356      0.123      0.113\n",
      "  7         11        1.324      0.170      0.106\n",
      "Epoch   Iteration   Loss(run)   Acc(run)   Acc(val)\n",
      "---------------------------------------------------\n",
      "  8          1        1.352      0.105      0.109\n",
      "  8          2        1.307      0.129      0.112\n",
      "  8          3        1.291      0.143      0.119\n",
      "  8          4        1.292      0.156      0.124\n",
      "  8          5        1.351      0.158      0.128\n",
      "  8          6        1.266      0.176      0.142\n",
      "  8          7        1.335      0.142      0.148\n",
      "  8          8        1.333      0.122      0.154\n",
      "  8          9        1.360      0.163      0.165\n",
      "  8         10        1.362      0.168      0.183\n",
      "  8         11        1.312      0.238      0.210\n",
      "Epoch   Iteration   Loss(run)   Acc(run)   Acc(val)\n",
      "---------------------------------------------------\n",
      "  9          1        1.335      0.165      0.215\n",
      "  9          2        1.280      0.206      0.225\n",
      "  9          3        1.262      0.227      0.222\n",
      "  9          4        1.263      0.263      0.244\n",
      "  9          5        1.329      0.279      0.253\n",
      "  9          6        1.237      0.259      0.282\n",
      "  9          7        1.318      0.248      0.271\n",
      "  9          8        1.323      0.244      0.298\n",
      "  9          9        1.394      0.326      0.325\n",
      "  9         10        1.357      0.319      0.340\n",
      "  9         11        1.288      0.419      0.368\n",
      "Epoch   Iteration   Loss(run)   Acc(run)   Acc(val)\n",
      "---------------------------------------------------\n",
      " 10          1        1.318      0.315      0.401\n",
      " 10          2        1.253      0.382      0.407\n",
      " 10          3        1.231      0.410      0.410\n",
      " 10          4        1.229      0.444      0.475\n",
      " 10          5        1.311      0.524      0.486\n",
      " 10          6        1.201      0.488      0.502\n",
      " 10          7        1.298      0.457      0.508\n",
      " 10          8        1.309      0.480      0.547\n",
      " 10          9        1.347      0.557      0.581\n",
      " 10         10        1.315      0.570      0.572\n",
      " 10         11        1.239      0.638      0.595\n",
      "Finished Training\n"
     ]
    }
   ],
   "source": [
    "for epoch in range(n_epoch):  # loop over the dataset multiple times\n",
    "\n",
    "    running_loss = 0.0\n",
    "    running_accuracy = 0.0\n",
    "    \n",
    "    print('Epoch   Iteration   Loss(run)   Acc(run)   Acc(val)')\n",
    "    print('---------------------------------------------------')\n",
    "    \n",
    "    for i in range(len(Ytrain)):\n",
    "        # get the inputs\n",
    "        inputs = Ytrain[i] \n",
    "        labels = alllabels[i]\n",
    "        inputs, labels = inputs.to(device), labels.to(device)\n",
    "\n",
    "        # zero the parameter gradients\n",
    "        optimizer.zero_grad()\n",
    "\n",
    "        # forward + backward + optimize\n",
    "        x    = net(inputs,Kresnet)\n",
    "        loss, Si = misfit(x,W,labels)\n",
    "        loss.backward()\n",
    "             \n",
    "        optimizer.step()\n",
    "\n",
    "        # print statistics\n",
    "        accuracy = getAccuracy(Si,labels)\n",
    "        running_loss     += loss.item()\n",
    "        running_accuracy += accuracy\n",
    "        if i % p_iter == (p_iter-1):    # print every p_iter mini-batches\n",
    "            # compute validation accuracy\n",
    "            with torch.no_grad():\n",
    "                for j in range(len(Ytest)):            \n",
    "                    #    dataiter = iter(testloader)\n",
    "                    #    inputsV, labelsV = dataiter.next()\n",
    "                    inputsV = Ytest[j] \n",
    "                    labelsV = testlabels[j]\n",
    "                    inputsV, labelsV = inputsV.to(device), labelsV.to(device)\n",
    "                    xV = net(inputsV,Kresnet)\n",
    "                    lossV, SiV = misfit(xV,W,labelsV)\n",
    "                    accuracyV  = getAccuracy(SiV,labelsV)\n",
    "\n",
    "#             accuracyV = 0\n",
    "            print(' %2d      %5d        %5.3f      %5.3f      %5.3f' %\n",
    "                  (epoch + 1, i + 1, running_loss / p_iter, running_accuracy/p_iter, accuracyV))\n",
    "            running_loss = 0.0\n",
    "            running_accuracy = 0.0\n",
    "\n",
    "print('Finished Training')"
   ]
  },
  {
   "cell_type": "code",
   "execution_count": 17,
   "metadata": {},
   "outputs": [
    {
     "name": "stdout",
     "output_type": "stream",
     "text": [
      " Test Hole 0: 415/699 Correct  (59.37%)\n",
      " Test Hole 1: 419/694 Correct  (60.37%)\n",
      " Test Hole 2: 414/701 Correct  (59.06%)\n",
      " Test Hole 3: 364/687 Correct  (52.98%)\n",
      " Test Hole 4: 399/671 Correct  (59.46%)\n"
     ]
    }
   ],
   "source": [
    "# Predict\n",
    "for testi in range(len(testlabels)):\n",
    "    x = net(Ytest[testi],Kresnet)\n",
    "    _,pred = misfit(x,W,testlabels[testi])\n",
    "\n",
    "    # print(np.argmax(pred.detach(),axis=1))\n",
    "    # print(np.argmax(pred.detach(),axis=1)==testlabels[testi])\n",
    "    correct = (np.argmax(pred.detach(),axis=1)==testlabels[testi]).numpy()\n",
    "    print(' Test Hole %i: %3i/%3i Correct  (%.2f%%)'%(testi,correct.sum(),correct.size,100*correct.sum()/correct.size))"
   ]
  },
  {
   "cell_type": "code",
   "execution_count": null,
   "metadata": {},
   "outputs": [],
   "source": []
  },
  {
   "cell_type": "code",
   "execution_count": null,
   "metadata": {},
   "outputs": [],
   "source": []
  }
 ],
 "metadata": {
  "kernelspec": {
   "display_name": "Python 3",
   "language": "python",
   "name": "python3"
  },
  "language_info": {
   "codemirror_mode": {
    "name": "ipython",
    "version": 3
   },
   "file_extension": ".py",
   "mimetype": "text/x-python",
   "name": "python",
   "nbconvert_exporter": "python",
   "pygments_lexer": "ipython3",
   "version": "3.6.5"
  }
 },
 "nbformat": 4,
 "nbformat_minor": 2
}
